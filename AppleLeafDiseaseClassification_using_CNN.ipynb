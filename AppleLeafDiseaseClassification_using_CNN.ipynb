{
 "cells": [
  {
   "cell_type": "markdown",
   "id": "9a7d708d",
   "metadata": {},
   "source": [
    "### Import Libraries"
   ]
  },
  {
   "cell_type": "code",
   "execution_count": null,
   "id": "6f530fe8",
   "metadata": {},
   "outputs": [],
   "source": [
    "import warnings\n",
    "warnings.filterwarnings(\"ignore\")"
   ]
  },
  {
   "cell_type": "code",
   "execution_count": null,
   "id": "21243289",
   "metadata": {},
   "outputs": [],
   "source": [
    "import os\n",
    "import numpy as np\n",
    "import matplotlib.pyplot as plt\n",
    "%matplotlib inline\n",
    "import seaborn as sns\n",
    "from sklearn.metrics import accuracy_score,classification_report,confusion_matrix\n",
    "from tensorflow.keras.preprocessing.image import load_img,img_to_array\n",
    "from tensorflow.keras.utils import to_categorical"
   ]
  },
  {
   "cell_type": "markdown",
   "id": "30ac352e",
   "metadata": {},
   "source": [
    "### Data Loading"
   ]
  },
  {
   "cell_type": "markdown",
   "id": "7b530de3",
   "metadata": {},
   "source": [
    "***Loading test-set***"
   ]
  },
  {
   "cell_type": "code",
   "execution_count": null,
   "id": "f9650245",
   "metadata": {},
   "outputs": [],
   "source": [
    "base_dir_test=\"input/Test\""
   ]
  },
  {
   "cell_type": "code",
   "execution_count": null,
   "id": "732ae6e6",
   "metadata": {},
   "outputs": [],
   "source": [
    "class_labels=os.listdir(base_dir_test)\n",
    "print(class_labels)"
   ]
  },
  {
   "cell_type": "code",
   "execution_count": null,
   "id": "c99f5a69",
   "metadata": {},
   "outputs": [],
   "source": [
    "test_data=[]\n",
    "count=0\n",
    "\n",
    "for label in class_labels:\n",
    "    i=0\n",
    "    path = os.path.join(base_dir_test, label)\n",
    "    print(path)\n",
    "    for img in os.listdir(path):\n",
    "        try:\n",
    "            image=load_img(os.path.join(path, img), grayscale=False, color_mode='rgb', target_size=(256,256))\n",
    "            image=img_to_array(image)\n",
    "            image=image/255.0\n",
    "            test_data.append([image,count])\n",
    "        except Exception as e:\n",
    "                pass\n",
    "    count=count+1"
   ]
  },
  {
   "cell_type": "code",
   "execution_count": null,
   "id": "cc75aad5",
   "metadata": {},
   "outputs": [],
   "source": [
    "print(len(test_data))"
   ]
  },
  {
   "cell_type": "code",
   "execution_count": null,
   "id": "79cc07cb",
   "metadata": {},
   "outputs": [],
   "source": [
    "x_test,Y_test =zip(*test_data)"
   ]
  },
  {
   "cell_type": "code",
   "execution_count": null,
   "id": "1e07f757",
   "metadata": {},
   "outputs": [],
   "source": [
    "x_test"
   ]
  },
  {
   "cell_type": "code",
   "execution_count": null,
   "id": "adc52cfa",
   "metadata": {},
   "outputs": [],
   "source": [
    "print(Y_test)"
   ]
  },
  {
   "cell_type": "code",
   "execution_count": null,
   "id": "aa76f50f",
   "metadata": {},
   "outputs": [],
   "source": [
    "X_test=np.array(x_test)\n",
    "y_test=np.array(Y_test)"
   ]
  },
  {
   "cell_type": "code",
   "execution_count": null,
   "id": "3f011e8a",
   "metadata": {},
   "outputs": [],
   "source": [
    "print(X_test.shape,y_test.shape)"
   ]
  },
  {
   "cell_type": "code",
   "execution_count": null,
   "id": "f40b8674",
   "metadata": {},
   "outputs": [],
   "source": [
    "from random import randint\n",
    "def show_images(X,y):\n",
    "    labels =class_labels\n",
    "    x,y = X,y\n",
    "    plt.figure(figsize=(15, 15))\n",
    "    for i in range(16):\n",
    "        ax = plt.subplot(4, 4, i + 1)\n",
    "        idx = randint(0, X_test.shape[0]-1)\n",
    "        plt.imshow(x[idx])\n",
    "        plt.axis(\"off\")\n",
    "        plt.title(\"Class:{}\".format(labels[y[idx]]))\n",
    "show_images(X_test,y_test)"
   ]
  },
  {
   "cell_type": "markdown",
   "id": "a8af7ac5",
   "metadata": {},
   "source": [
    "***Loading train-set***"
   ]
  },
  {
   "cell_type": "code",
   "execution_count": null,
   "id": "9002055b",
   "metadata": {},
   "outputs": [],
   "source": [
    "base_dir_train=\"input/Train\""
   ]
  },
  {
   "cell_type": "code",
   "execution_count": null,
   "id": "0566ecff",
   "metadata": {},
   "outputs": [],
   "source": [
    "class_labels=os.listdir(base_dir_train)\n",
    "print(class_labels)"
   ]
  },
  {
   "cell_type": "code",
   "execution_count": null,
   "id": "917ee92e",
   "metadata": {},
   "outputs": [],
   "source": [
    "train_data=[]\n",
    "count=0\n",
    "\n",
    "for label in class_labels:\n",
    "    i=0\n",
    "    path = os.path.join(base_dir_train, label)\n",
    "    print(path)\n",
    "    for img in os.listdir(path):\n",
    "        try:\n",
    "            image=load_img(os.path.join(path, img), grayscale=False, color_mode='rgb', target_size=(256,256))\n",
    "            image=img_to_array(image)\n",
    "            image=image/255.0\n",
    "            train_data.append([image,count])\n",
    "        except Exception as e:\n",
    "                pass\n",
    "    count=count+1"
   ]
  },
  {
   "cell_type": "code",
   "execution_count": null,
   "id": "7554555f",
   "metadata": {},
   "outputs": [],
   "source": [
    "print(len(train_data))"
   ]
  },
  {
   "cell_type": "code",
   "execution_count": null,
   "id": "4bb4d494",
   "metadata": {},
   "outputs": [],
   "source": [
    "x_train,Y_train =zip(*train_data)"
   ]
  },
  {
   "cell_type": "code",
   "execution_count": null,
   "id": "bb300a1a",
   "metadata": {},
   "outputs": [],
   "source": [
    "x_train"
   ]
  },
  {
   "cell_type": "code",
   "execution_count": null,
   "id": "3ab2babd",
   "metadata": {},
   "outputs": [],
   "source": [
    "print(Y_train)"
   ]
  },
  {
   "cell_type": "code",
   "execution_count": null,
   "id": "7d20dcbf",
   "metadata": {},
   "outputs": [],
   "source": [
    "X_train=np.array(x_train)\n",
    "y_train=np.array(Y_train)"
   ]
  },
  {
   "cell_type": "code",
   "execution_count": null,
   "id": "c483d500",
   "metadata": {},
   "outputs": [],
   "source": [
    "print(X_train.shape,y_train.shape)"
   ]
  },
  {
   "cell_type": "code",
   "execution_count": null,
   "id": "9a3c5573",
   "metadata": {},
   "outputs": [],
   "source": [
    "from random import randint\n",
    "def show_images(X,y):\n",
    "    labels =class_labels\n",
    "    x,y = X,y\n",
    "    plt.figure(figsize=(15, 15))\n",
    "    for i in range(16):\n",
    "        ax = plt.subplot(4, 4, i + 1)\n",
    "        idx = randint(0, X_train.shape[0]-1)\n",
    "        plt.imshow(x[idx])\n",
    "        plt.axis(\"off\")\n",
    "        plt.title(\"Class:{}\".format(labels[y[idx]]))\n",
    "show_images(X_train,y_train)"
   ]
  },
  {
   "cell_type": "markdown",
   "id": "d1a21178",
   "metadata": {},
   "source": [
    "### Algorithm - Convolutional Neural Network"
   ]
  },
  {
   "cell_type": "code",
   "execution_count": null,
   "id": "d8900990",
   "metadata": {},
   "outputs": [],
   "source": [
    "y_train=to_categorical(y_train)\n",
    "y_test=to_categorical(y_test)"
   ]
  },
  {
   "cell_type": "code",
   "execution_count": null,
   "id": "973aee68",
   "metadata": {},
   "outputs": [],
   "source": [
    "from tensorflow.keras import Sequential\n",
    "from tensorflow.keras.layers import Conv2D,MaxPool2D,Dense,Dropout,Flatten\n",
    "from tensorflow.keras.optimizers.legacy import Adam"
   ]
  },
  {
   "cell_type": "code",
   "execution_count": null,
   "id": "60a7933d",
   "metadata": {},
   "outputs": [],
   "source": [
    "cnn_model=Sequential()\n",
    "\n",
    "cnn_model.add(Conv2D(filters=64,kernel_size=3,strides=(1,1),padding=\"same\",activation=\"relu\",input_shape = (256,256,3)))\n",
    "cnn_model.add(MaxPool2D(pool_size=(3,3),padding=\"same\"))\n",
    "\n",
    "cnn_model.add(Conv2D(filters=128,kernel_size=3,strides=(1,1),padding=\"same\",activation=\"relu\"))\n",
    "cnn_model.add(MaxPool2D(pool_size=(3,3),padding=\"same\"))\n",
    "\n",
    "cnn_model.add(Conv2D(filters=128,kernel_size=3,strides=(1,1),padding=\"same\",activation=\"relu\"))\n",
    "cnn_model.add(MaxPool2D(pool_size=(3,3),padding=\"same\"))\n",
    "\n",
    "cnn_model.add(Conv2D(filters=256,kernel_size=3,strides=(1,1),padding=\"same\",activation=\"relu\"))\n",
    "cnn_model.add(MaxPool2D(pool_size=(3,3),padding=\"same\"))\n",
    "\n",
    "cnn_model.add(Flatten())\n",
    "cnn_model.add(Dropout(rate=0.4))\n",
    "cnn_model.add(Dense(units=512,activation=\"relu\"))\n",
    "cnn_model.add(Dense(units=len(class_labels),activation=\"softmax\"))"
   ]
  },
  {
   "cell_type": "code",
   "execution_count": null,
   "id": "9df0b454",
   "metadata": {},
   "outputs": [],
   "source": [
    "cnn_model.compile(optimizer=Adam(learning_rate=1e-3,decay=1e-4),loss=\"categorical_crossentropy\",metrics=[\"accuracy\"])"
   ]
  },
  {
   "cell_type": "code",
   "execution_count": null,
   "id": "c5f4dbb4",
   "metadata": {},
   "outputs": [],
   "source": [
    "cnn_model.summary()"
   ]
  },
  {
   "cell_type": "code",
   "execution_count": null,
   "id": "0a7b3d0b",
   "metadata": {},
   "outputs": [],
   "source": [
    "history=cnn_model.fit(x=X_train,y=y_train,batch_size=64,epochs=10,validation_data=(X_test,y_test))"
   ]
  },
  {
   "cell_type": "markdown",
   "id": "cad47fbc",
   "metadata": {},
   "source": [
    "### Accuracy and Loss plot-graphs"
   ]
  },
  {
   "cell_type": "code",
   "execution_count": null,
   "id": "52c5f291",
   "metadata": {},
   "outputs": [],
   "source": [
    "plt.figure(figsize=(18,8))\n",
    "plt.rcParams[\"font.size\"]=15\n",
    "plt.plot(history.history[\"accuracy\"],label=\"accuracy\")\n",
    "plt.plot(history.history[\"val_accuracy\"],label=\"val_accuracy\")\n",
    "plt.title(label=\"Accuracy and Val_accuracy plot-graphs\")\n",
    "plt.legend()\n",
    "plt.show()\n",
    "\n",
    "plt.figure(figsize=(18,8))\n",
    "plt.plot(history.history[\"loss\"],label=\"loss\")\n",
    "plt.plot(history.history[\"val_loss\"],label=\"val_loss\")\n",
    "plt.title(label=\"Loss and Val_loss plot-graphs\")\n",
    "plt.legend()\n",
    "plt.show()"
   ]
  },
  {
   "cell_type": "code",
   "execution_count": null,
   "id": "5e907ab5",
   "metadata": {},
   "outputs": [],
   "source": [
    "cnn_prediction=cnn_model.predict(X_test,batch_size=64,verbose=1)"
   ]
  },
  {
   "cell_type": "code",
   "execution_count": null,
   "id": "4c78a897",
   "metadata": {},
   "outputs": [],
   "source": [
    "print(cnn_prediction)"
   ]
  },
  {
   "cell_type": "code",
   "execution_count": null,
   "id": "1b6d65fe",
   "metadata": {},
   "outputs": [],
   "source": [
    "cnn_labels=[]\n",
    "for i in range(len(cnn_prediction)):\n",
    "    cnn_labels.append(np.argmax(cnn_prediction[i]))"
   ]
  },
  {
   "cell_type": "code",
   "execution_count": null,
   "id": "eac0dfb4",
   "metadata": {},
   "outputs": [],
   "source": [
    "print(cnn_labels)"
   ]
  },
  {
   "cell_type": "code",
   "execution_count": null,
   "id": "9c3e966a",
   "metadata": {},
   "outputs": [],
   "source": [
    "true_labels=[]\n",
    "for i in range(len(y_test)):\n",
    "    true_labels.append(np.argmax(y_test[i]))"
   ]
  },
  {
   "cell_type": "code",
   "execution_count": null,
   "id": "56427b31",
   "metadata": {},
   "outputs": [],
   "source": [
    "print(true_labels)"
   ]
  },
  {
   "cell_type": "markdown",
   "id": "e85c29a8",
   "metadata": {},
   "source": [
    "### Result Analysis"
   ]
  },
  {
   "cell_type": "markdown",
   "id": "e1020663",
   "metadata": {},
   "source": [
    "***Accuracy Score***"
   ]
  },
  {
   "cell_type": "code",
   "execution_count": null,
   "id": "7139e205",
   "metadata": {},
   "outputs": [],
   "source": [
    "cnn_accuracy=accuracy_score(y_true=true_labels,y_pred=cnn_labels)\n",
    "print(\"CNN validated accuracy is {:.2f}%\".format(cnn_accuracy*100.0))"
   ]
  },
  {
   "cell_type": "markdown",
   "id": "f9d71711",
   "metadata": {},
   "source": [
    "***Classification Report***"
   ]
  },
  {
   "cell_type": "code",
   "execution_count": null,
   "id": "6742584b",
   "metadata": {},
   "outputs": [],
   "source": [
    "print(classification_report(y_true=true_labels,y_pred=cnn_labels,target_names=class_labels))"
   ]
  },
  {
   "cell_type": "markdown",
   "id": "e58d84e4",
   "metadata": {},
   "source": [
    "***Confusion Matrix***"
   ]
  },
  {
   "cell_type": "code",
   "execution_count": null,
   "id": "0c312a92",
   "metadata": {},
   "outputs": [],
   "source": [
    "from mlxtend.plotting import plot_confusion_matrix\n",
    "ax=plot_confusion_matrix(conf_mat=confusion_matrix(y_true=true_labels,y_pred=cnn_labels),\n",
    "                        figsize=(10,5),\n",
    "                        class_names=class_labels,\n",
    "                        cmap=plt.cm.Greens)\n",
    "plt.title(label=\"CNN Confusion Matrix\")\n",
    "plt.xticks(rotation=90)\n",
    "plt.show()"
   ]
  },
  {
   "cell_type": "markdown",
   "id": "825fd267",
   "metadata": {},
   "source": [
    "***Model Saving***"
   ]
  },
  {
   "cell_type": "code",
   "execution_count": null,
   "id": "40b80fc0",
   "metadata": {},
   "outputs": [],
   "source": [
    "cnn_model.save(filepath=\"models/Convolutional_Neural_Network.h5\")"
   ]
  }
 ],
 "metadata": {
  "kernelspec": {
   "display_name": "Python 3 (ipykernel)",
   "language": "python",
   "name": "python3"
  },
  "language_info": {
   "codemirror_mode": {
    "name": "ipython",
    "version": 3
   },
   "file_extension": ".py",
   "mimetype": "text/x-python",
   "name": "python",
   "nbconvert_exporter": "python",
   "pygments_lexer": "ipython3",
   "version": "3.9.13"
  }
 },
 "nbformat": 4,
 "nbformat_minor": 5
}
