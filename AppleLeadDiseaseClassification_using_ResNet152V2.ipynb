{
 "cells": [
  {
   "cell_type": "markdown",
   "id": "9a7d708d",
   "metadata": {
    "id": "9a7d708d"
   },
   "source": [
    "### Import Libraries"
   ]
  },
  {
   "cell_type": "code",
   "execution_count": null,
   "id": "6f530fe8",
   "metadata": {
    "executionInfo": {
     "elapsed": 339,
     "status": "ok",
     "timestamp": 1667819610824,
     "user": {
      "displayName": "Pulavendran S",
      "userId": "17258826982811741696"
     },
     "user_tz": -330
    },
    "id": "6f530fe8"
   },
   "outputs": [],
   "source": [
    "import warnings\n",
    "warnings.filterwarnings(\"ignore\")"
   ]
  },
  {
   "cell_type": "code",
   "execution_count": null,
   "id": "21243289",
   "metadata": {
    "executionInfo": {
     "elapsed": 3658,
     "status": "ok",
     "timestamp": 1667819616014,
     "user": {
      "displayName": "Pulavendran S",
      "userId": "17258826982811741696"
     },
     "user_tz": -330
    },
    "id": "21243289"
   },
   "outputs": [],
   "source": [
    "import os\n",
    "import numpy as np\n",
    "import matplotlib.pyplot as plt\n",
    "%matplotlib inline\n",
    "from sklearn.metrics import accuracy_score,classification_report,confusion_matrix\n",
    "from tensorflow.keras.preprocessing.image import load_img,img_to_array\n",
    "from tensorflow.keras.utils import to_categorical"
   ]
  },
  {
   "cell_type": "markdown",
   "id": "30ac352e",
   "metadata": {
    "id": "30ac352e"
   },
   "source": [
    "### Data Loading"
   ]
  },
  {
   "cell_type": "markdown",
   "id": "7b530de3",
   "metadata": {
    "id": "7b530de3"
   },
   "source": [
    "***Loading test-set***"
   ]
  },
  {
   "cell_type": "code",
   "execution_count": null,
   "id": "f9650245",
   "metadata": {
    "executionInfo": {
     "elapsed": 6,
     "status": "ok",
     "timestamp": 1667819616015,
     "user": {
      "displayName": "Pulavendran S",
      "userId": "17258826982811741696"
     },
     "user_tz": -330
    },
    "id": "f9650245"
   },
   "outputs": [],
   "source": [
    "base_dir_test=\"input/Test\""
   ]
  },
  {
   "cell_type": "code",
   "execution_count": null,
   "id": "732ae6e6",
   "metadata": {
    "colab": {
     "base_uri": "https://localhost:8080/"
    },
    "executionInfo": {
     "elapsed": 1846,
     "status": "ok",
     "timestamp": 1667819617856,
     "user": {
      "displayName": "Pulavendran S",
      "userId": "17258826982811741696"
     },
     "user_tz": -330
    },
    "id": "732ae6e6",
    "outputId": "af6fed60-3462-479f-b5f2-e61985be3e48"
   },
   "outputs": [],
   "source": [
    "class_labels=os.listdir(base_dir_test)\n",
    "print(class_labels)"
   ]
  },
  {
   "cell_type": "code",
   "execution_count": null,
   "id": "c99f5a69",
   "metadata": {
    "colab": {
     "base_uri": "https://localhost:8080/"
    },
    "executionInfo": {
     "elapsed": 5772,
     "status": "ok",
     "timestamp": 1667819625751,
     "user": {
      "displayName": "Pulavendran S",
      "userId": "17258826982811741696"
     },
     "user_tz": -330
    },
    "id": "c99f5a69",
    "outputId": "e668eac3-3e04-44b3-baf1-b39513464618"
   },
   "outputs": [],
   "source": [
    "test_data=[]\n",
    "count=0\n",
    "\n",
    "for label in class_labels:\n",
    "    i=0\n",
    "    path = os.path.join(base_dir_test, label)\n",
    "    print(path)\n",
    "    for img in os.listdir(path):\n",
    "        try:\n",
    "            image=load_img(os.path.join(path, img), grayscale=False, color_mode='rgb', target_size=(256,256))\n",
    "            image=img_to_array(image)\n",
    "            image=image/255.0\n",
    "            test_data.append([image,count])\n",
    "        except Exception as e:\n",
    "                pass\n",
    "    count=count+1"
   ]
  },
  {
   "cell_type": "code",
   "execution_count": null,
   "id": "cc75aad5",
   "metadata": {
    "colab": {
     "base_uri": "https://localhost:8080/"
    },
    "executionInfo": {
     "elapsed": 12,
     "status": "ok",
     "timestamp": 1667819625752,
     "user": {
      "displayName": "Pulavendran S",
      "userId": "17258826982811741696"
     },
     "user_tz": -330
    },
    "id": "cc75aad5",
    "outputId": "e0de3fab-a4ba-4bd2-d462-d4331ff54dc8"
   },
   "outputs": [],
   "source": [
    "print(len(test_data))"
   ]
  },
  {
   "cell_type": "code",
   "execution_count": null,
   "id": "79cc07cb",
   "metadata": {
    "executionInfo": {
     "elapsed": 8,
     "status": "ok",
     "timestamp": 1667819625752,
     "user": {
      "displayName": "Pulavendran S",
      "userId": "17258826982811741696"
     },
     "user_tz": -330
    },
    "id": "79cc07cb"
   },
   "outputs": [],
   "source": [
    "x_test,Y_test =zip(*test_data)"
   ]
  },
  {
   "cell_type": "code",
   "execution_count": null,
   "id": "1e07f757",
   "metadata": {
    "colab": {
     "base_uri": "https://localhost:8080/"
    },
    "executionInfo": {
     "elapsed": 1771,
     "status": "ok",
     "timestamp": 1667819627516,
     "user": {
      "displayName": "Pulavendran S",
      "userId": "17258826982811741696"
     },
     "user_tz": -330
    },
    "id": "1e07f757",
    "outputId": "b2611233-c692-47d3-bbe5-560aee5df0b1"
   },
   "outputs": [],
   "source": [
    "x_test"
   ]
  },
  {
   "cell_type": "code",
   "execution_count": null,
   "id": "adc52cfa",
   "metadata": {
    "colab": {
     "base_uri": "https://localhost:8080/"
    },
    "executionInfo": {
     "elapsed": 556,
     "status": "ok",
     "timestamp": 1667819627517,
     "user": {
      "displayName": "Pulavendran S",
      "userId": "17258826982811741696"
     },
     "user_tz": -330
    },
    "id": "adc52cfa",
    "outputId": "824b2aaa-0d6c-4d5e-b80a-c061c8038479"
   },
   "outputs": [],
   "source": [
    "print(Y_test)"
   ]
  },
  {
   "cell_type": "code",
   "execution_count": null,
   "id": "yXzuPmiTy-v7",
   "metadata": {
    "colab": {
     "base_uri": "https://localhost:8080/",
     "height": 575
    },
    "executionInfo": {
     "elapsed": 504,
     "status": "ok",
     "timestamp": 1667819664015,
     "user": {
      "displayName": "Pulavendran S",
      "userId": "17258826982811741696"
     },
     "user_tz": -330
    },
    "id": "yXzuPmiTy-v7",
    "outputId": "6376906d-c1b4-470b-d926-40fb663bd34b"
   },
   "outputs": [],
   "source": [
    "pie_data=[]\n",
    "for i in range(len(class_labels)):\n",
    "    pie_data.append(list(Y_test).count(i))\n",
    "with plt.style.context(\"ggplot\"):\n",
    "    plt.figure(figsize=(10,10))\n",
    "    my_circle=plt.Circle( (0,0), 0.7, color='white')\n",
    "    plt.pie(pie_data, labels=class_labels,autopct='%.2f%%')\n",
    "    p=plt.gcf()\n",
    "    p.gca().add_artist(my_circle)\n",
    "    plt.show()"
   ]
  },
  {
   "cell_type": "code",
   "execution_count": null,
   "id": "5yZaa6RhzLte",
   "metadata": {
    "colab": {
     "base_uri": "https://localhost:8080/",
     "height": 514
    },
    "executionInfo": {
     "elapsed": 7,
     "status": "ok",
     "timestamp": 1667819708590,
     "user": {
      "displayName": "Pulavendran S",
      "userId": "17258826982811741696"
     },
     "user_tz": -330
    },
    "id": "5yZaa6RhzLte",
    "outputId": "2821e3ab-169e-40e8-939f-65bb74f60f69"
   },
   "outputs": [],
   "source": [
    "with plt.style.context(\"fivethirtyeight\"):\n",
    "    plt.figure(figsize=(18,8))\n",
    "    plt.barh(width=pie_data,y=class_labels)\n",
    "    plt.title(label=\"Records size comparision for classes\")\n",
    "    plt.xticks(rotation=90)\n",
    "    plt.show()"
   ]
  },
  {
   "cell_type": "code",
   "execution_count": null,
   "id": "aa76f50f",
   "metadata": {
    "id": "aa76f50f"
   },
   "outputs": [],
   "source": [
    "X_test=np.array(x_test)\n",
    "y_test=np.array(Y_test)"
   ]
  },
  {
   "cell_type": "code",
   "execution_count": null,
   "id": "3f011e8a",
   "metadata": {
    "id": "3f011e8a",
    "outputId": "c79f34ed-b40a-4717-827e-a356959edc7d"
   },
   "outputs": [],
   "source": [
    "print(X_test.shape,y_test.shape)"
   ]
  },
  {
   "cell_type": "code",
   "execution_count": null,
   "id": "f40b8674",
   "metadata": {
    "id": "f40b8674",
    "outputId": "517d31ad-2dba-4873-930f-e4188879569d"
   },
   "outputs": [],
   "source": [
    "from random import randint\n",
    "def show_images(X,y):\n",
    "    labels =class_labels\n",
    "    x,y = X,y\n",
    "    plt.figure(figsize=(15, 15))\n",
    "    for i in range(16):\n",
    "        ax = plt.subplot(4, 4, i + 1)\n",
    "        idx = randint(0, X_test.shape[0]-1)\n",
    "        plt.imshow(x[idx])\n",
    "        plt.axis(\"off\")\n",
    "        plt.title(\"Class:{}\".format(labels[y[idx]]))\n",
    "show_images(X_test,y_test)"
   ]
  },
  {
   "cell_type": "markdown",
   "id": "a8af7ac5",
   "metadata": {
    "id": "a8af7ac5"
   },
   "source": [
    "***Loading train-set***"
   ]
  },
  {
   "cell_type": "code",
   "execution_count": null,
   "id": "9002055b",
   "metadata": {
    "id": "9002055b"
   },
   "outputs": [],
   "source": [
    "base_dir_train=\"input/Train\""
   ]
  },
  {
   "cell_type": "code",
   "execution_count": null,
   "id": "0566ecff",
   "metadata": {
    "id": "0566ecff",
    "outputId": "2ad38e3a-f29e-42ae-a538-828ba4fde35c"
   },
   "outputs": [],
   "source": [
    "class_labels=os.listdir(base_dir_train)\n",
    "print(class_labels)"
   ]
  },
  {
   "cell_type": "code",
   "execution_count": null,
   "id": "917ee92e",
   "metadata": {
    "id": "917ee92e",
    "outputId": "55c333ed-7e8f-435d-ece8-f17be1578e3d"
   },
   "outputs": [],
   "source": [
    "train_data=[]\n",
    "count=0\n",
    "\n",
    "for label in class_labels:\n",
    "    i=0\n",
    "    path = os.path.join(base_dir_train, label)\n",
    "    print(path)\n",
    "    for img in os.listdir(path):\n",
    "        try:\n",
    "            image=load_img(os.path.join(path, img), grayscale=False, color_mode='rgb', target_size=(256,256))\n",
    "            image=img_to_array(image)\n",
    "            image=image/255.0\n",
    "            train_data.append([image,count])\n",
    "        except Exception as e:\n",
    "                pass\n",
    "    count=count+1"
   ]
  },
  {
   "cell_type": "code",
   "execution_count": null,
   "id": "7554555f",
   "metadata": {
    "id": "7554555f",
    "outputId": "07925a44-afa4-460c-de67-08ce19605352"
   },
   "outputs": [],
   "source": [
    "print(len(train_data))"
   ]
  },
  {
   "cell_type": "code",
   "execution_count": null,
   "id": "4bb4d494",
   "metadata": {
    "id": "4bb4d494"
   },
   "outputs": [],
   "source": [
    "x_train,Y_train =zip(*train_data)"
   ]
  },
  {
   "cell_type": "code",
   "execution_count": null,
   "id": "bb300a1a",
   "metadata": {
    "id": "bb300a1a",
    "outputId": "3fbb2d8e-2132-4855-bcfa-626bd117fa16"
   },
   "outputs": [],
   "source": [
    "x_train"
   ]
  },
  {
   "cell_type": "code",
   "execution_count": null,
   "id": "3ab2babd",
   "metadata": {
    "id": "3ab2babd",
    "outputId": "91c2f0e1-55fd-4203-b4e6-d9b77eb71a45"
   },
   "outputs": [],
   "source": [
    "print(Y_train)"
   ]
  },
  {
   "cell_type": "code",
   "execution_count": null,
   "id": "7d20dcbf",
   "metadata": {
    "id": "7d20dcbf"
   },
   "outputs": [],
   "source": [
    "X_train=np.array(x_train)\n",
    "y_train=np.array(Y_train)"
   ]
  },
  {
   "cell_type": "code",
   "execution_count": null,
   "id": "c483d500",
   "metadata": {
    "id": "c483d500",
    "outputId": "34c04680-47f9-42c1-96ae-187260672bd8"
   },
   "outputs": [],
   "source": [
    "print(X_train.shape,y_train.shape)"
   ]
  },
  {
   "cell_type": "code",
   "execution_count": null,
   "id": "9a3c5573",
   "metadata": {
    "id": "9a3c5573",
    "outputId": "5f6851ed-a05c-4524-f80a-f08d26d83c0c"
   },
   "outputs": [],
   "source": [
    "from random import randint\n",
    "def show_images(X,y):\n",
    "    labels =class_labels\n",
    "    x,y = X,y\n",
    "    plt.figure(figsize=(15, 15))\n",
    "    for i in range(16):\n",
    "        ax = plt.subplot(4, 4, i + 1)\n",
    "        idx = randint(0, X_train.shape[0]-1)\n",
    "        plt.imshow(x[idx])\n",
    "        plt.axis(\"off\")\n",
    "        plt.title(\"Class:{}\".format(labels[y[idx]]))\n",
    "show_images(X_train,y_train)"
   ]
  },
  {
   "cell_type": "markdown",
   "id": "d1a21178",
   "metadata": {
    "id": "d1a21178"
   },
   "source": [
    "### Algorithm - ResNet152V2"
   ]
  },
  {
   "cell_type": "code",
   "execution_count": null,
   "id": "d8900990",
   "metadata": {
    "id": "d8900990"
   },
   "outputs": [],
   "source": [
    "y_train=to_categorical(y_train)\n",
    "y_test=to_categorical(y_test)"
   ]
  },
  {
   "cell_type": "code",
   "execution_count": null,
   "id": "973aee68",
   "metadata": {
    "id": "973aee68"
   },
   "outputs": [],
   "source": [
    "import tensorflow as tf\n",
    "from tensorflow.keras.optimizerslegacy import Adam"
   ]
  },
  {
   "cell_type": "code",
   "execution_count": null,
   "id": "3356f430",
   "metadata": {
    "id": "3356f430"
   },
   "outputs": [],
   "source": [
    "resnet_model=tf.keras.applications.resnet_v2.ResNet152V2(include_top=False,\n",
    "                                                   weights=\"imagenet\",\n",
    "                                                   input_tensor=None,\n",
    "                                                   input_shape=(256,256,3),\n",
    "                                                   pooling=\"max\",\n",
    "                                                   classes=1000)\n",
    "resnet_model.trainable = False"
   ]
  },
  {
   "cell_type": "code",
   "execution_count": null,
   "id": "cb0c5cd9",
   "metadata": {
    "id": "cb0c5cd9"
   },
   "outputs": [],
   "source": [
    "inputs = resnet_model.input\n",
    "m = tf.keras.layers.Dense(512, activation='relu')(resnet_model.output)\n",
    "outputs = tf.keras.layers.Dense(4, activation='softmax')(m)\n",
    "resnet_model = tf.keras.Model(inputs=inputs, outputs=outputs)"
   ]
  },
  {
   "cell_type": "code",
   "execution_count": null,
   "id": "c577fb61",
   "metadata": {
    "id": "c577fb61"
   },
   "outputs": [],
   "source": [
    "resnet_model.compile(optimizer=Adam(learning_rate=1e-3,decay=1e-4),loss='categorical_crossentropy',metrics=['accuracy'])"
   ]
  },
  {
   "cell_type": "code",
   "execution_count": null,
   "id": "df12900a",
   "metadata": {
    "id": "df12900a",
    "outputId": "772a3521-ab25-417f-d062-601b6387655d"
   },
   "outputs": [],
   "source": [
    "resnet_model.summary()"
   ]
  },
  {
   "cell_type": "code",
   "execution_count": null,
   "id": "044aa393",
   "metadata": {
    "id": "044aa393",
    "outputId": "d8e81f4a-dd9c-43d0-cfae-cae43a430a28"
   },
   "outputs": [],
   "source": [
    "history = resnet_model.fit(X_train, y_train, batch_size=64,validation_data = (X_test, y_test),epochs=10)"
   ]
  },
  {
   "cell_type": "markdown",
   "id": "cad47fbc",
   "metadata": {
    "id": "cad47fbc"
   },
   "source": [
    "### Accuracy and Loss plot-graphs"
   ]
  },
  {
   "cell_type": "code",
   "execution_count": null,
   "id": "52c5f291",
   "metadata": {
    "id": "52c5f291",
    "outputId": "d1e83e6b-796c-475c-ea9a-9658f4aed62b"
   },
   "outputs": [],
   "source": [
    "with plt.style.context(style='ggplot'):\n",
    "    plt.figure(figsize=(18,8))\n",
    "    plt.rcParams[\"font.size\"]=15\n",
    "    plt.plot(history.history[\"accuracy\"],label=\"accuracy\")\n",
    "    plt.plot(history.history[\"val_accuracy\"],label=\"val_accuracy\")\n",
    "    plt.title(label=\"Accuracy and Val_accuracy plot-graphs\")\n",
    "    plt.legend()\n",
    "    plt.show()\n",
    "\n",
    "    plt.figure(figsize=(18,8))\n",
    "    plt.plot(history.history[\"loss\"],label=\"loss\")\n",
    "    plt.plot(history.history[\"val_loss\"],label=\"val_loss\")\n",
    "    plt.title(label=\"Loss and Val_loss plot-graphs\")\n",
    "    plt.legend()\n",
    "    plt.show()"
   ]
  },
  {
   "cell_type": "code",
   "execution_count": null,
   "id": "5e907ab5",
   "metadata": {
    "id": "5e907ab5",
    "outputId": "5c7829e2-961a-486e-b8cd-167f566716c6"
   },
   "outputs": [],
   "source": [
    "resnet_model_prediction=resnet_model.predict(X_test,batch_size=64,verbose=1)"
   ]
  },
  {
   "cell_type": "code",
   "execution_count": null,
   "id": "4c78a897",
   "metadata": {
    "id": "4c78a897",
    "outputId": "d4e742f3-4486-47bf-e155-1513ddbd1707"
   },
   "outputs": [],
   "source": [
    "print(resnet_model_prediction)"
   ]
  },
  {
   "cell_type": "code",
   "execution_count": null,
   "id": "1b6d65fe",
   "metadata": {
    "id": "1b6d65fe"
   },
   "outputs": [],
   "source": [
    "resnet_model_labels=[]\n",
    "for i in range(len(resnet_model_prediction)):\n",
    "    resnet_model_labels.append(np.argmax(resnet_model_prediction[i]))"
   ]
  },
  {
   "cell_type": "code",
   "execution_count": null,
   "id": "eac0dfb4",
   "metadata": {
    "id": "eac0dfb4",
    "outputId": "e9700f15-9078-4a65-83e4-9d4dbf67360e"
   },
   "outputs": [],
   "source": [
    "print(resnet_model_labels)"
   ]
  },
  {
   "cell_type": "code",
   "execution_count": null,
   "id": "9c3e966a",
   "metadata": {
    "id": "9c3e966a"
   },
   "outputs": [],
   "source": [
    "true_labels=[]\n",
    "for i in range(len(y_test)):\n",
    "    true_labels.append(np.argmax(y_test[i]))"
   ]
  },
  {
   "cell_type": "code",
   "execution_count": null,
   "id": "56427b31",
   "metadata": {
    "id": "56427b31",
    "outputId": "f0b3d263-459e-4f6f-f254-c747c0319b76"
   },
   "outputs": [],
   "source": [
    "print(true_labels)"
   ]
  },
  {
   "cell_type": "markdown",
   "id": "e85c29a8",
   "metadata": {
    "id": "e85c29a8"
   },
   "source": [
    "### Result Analysis"
   ]
  },
  {
   "cell_type": "markdown",
   "id": "df01dc59",
   "metadata": {
    "id": "df01dc59"
   },
   "source": [
    "***Accuracy Score***"
   ]
  },
  {
   "cell_type": "code",
   "execution_count": null,
   "id": "eec0225a",
   "metadata": {
    "id": "eec0225a",
    "outputId": "48e5c7d9-8e84-4ad3-dcd9-d1e80e0b6659"
   },
   "outputs": [],
   "source": [
    "resnet_accuracy=accuracy_score(y_true=true_labels,y_pred=resnet_model_labels)\n",
    "print(\"ResNet152V2 model's validated accuracy is {:.2f}%\".format(resnet_accuracy*100.0))"
   ]
  },
  {
   "cell_type": "markdown",
   "id": "f9d71711",
   "metadata": {
    "id": "f9d71711"
   },
   "source": [
    "***Classification Report***"
   ]
  },
  {
   "cell_type": "code",
   "execution_count": null,
   "id": "6742584b",
   "metadata": {
    "id": "6742584b",
    "outputId": "8f72ccbf-39b9-4274-8d50-498f1e36d25b"
   },
   "outputs": [],
   "source": [
    "print(classification_report(y_true=true_labels,y_pred=resnet_model_labels,target_names=class_labels))"
   ]
  },
  {
   "cell_type": "markdown",
   "id": "e58d84e4",
   "metadata": {
    "id": "e58d84e4"
   },
   "source": [
    "***Confusion Matrix***"
   ]
  },
  {
   "cell_type": "code",
   "execution_count": null,
   "id": "0c312a92",
   "metadata": {
    "id": "0c312a92",
    "outputId": "ee123f71-ad5d-44f5-cd68-7ad4fea4542b"
   },
   "outputs": [],
   "source": [
    "from mlxtend.plotting import plot_confusion_matrix\n",
    "ax=plot_confusion_matrix(conf_mat=confusion_matrix(y_true=true_labels,y_pred=resnet_model_labels),\n",
    "                        figsize=(10,5),\n",
    "                        class_names=class_labels,\n",
    "                        cmap=plt.cm.Reds)\n",
    "plt.title(label=\"ResNet152V2 Confusion Matrix\")\n",
    "plt.xticks(rotation=90)\n",
    "plt.show()"
   ]
  },
  {
   "cell_type": "markdown",
   "id": "825fd267",
   "metadata": {
    "id": "825fd267"
   },
   "source": [
    "***Model Saving***"
   ]
  },
  {
   "cell_type": "code",
   "execution_count": null,
   "id": "40b80fc0",
   "metadata": {
    "id": "40b80fc0"
   },
   "outputs": [],
   "source": [
    "resnet_model.save(filepath=\"models/ResNet152V2_model.h5\")"
   ]
  }
 ],
 "metadata": {
  "colab": {
   "collapsed_sections": [
    "d1a21178",
    "cad47fbc",
    "e85c29a8"
   ],
   "provenance": []
  },
  "kernelspec": {
   "display_name": "Python 3 (ipykernel)",
   "language": "python",
   "name": "python3"
  },
  "language_info": {
   "codemirror_mode": {
    "name": "ipython",
    "version": 3
   },
   "file_extension": ".py",
   "mimetype": "text/x-python",
   "name": "python",
   "nbconvert_exporter": "python",
   "pygments_lexer": "ipython3",
   "version": "3.9.13"
  }
 },
 "nbformat": 4,
 "nbformat_minor": 5
}
